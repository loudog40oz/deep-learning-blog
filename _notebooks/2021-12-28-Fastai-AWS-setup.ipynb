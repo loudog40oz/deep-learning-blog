{
 "cells": [
  {
   "cell_type": "markdown",
   "metadata": {},
   "source": [
    "# AWS Sagemaker Fastai Environment Set Up \n",
    "> A tutorial to spin up your own AWS sagemaker instance to run through the fastai deep learning for coders course.\n",
    "\n",
    "- toc: true \n",
    "- badges: true\n",
    "- comments: true\n",
    "- categories: [jupyter]\n",
    "- image: my_icons/AWS_Sagemaker_icon.png"
   ]
  },
  {
   "cell_type": "markdown",
   "metadata": {},
   "source": [
    "# Why Sagemaker over Colab or Gradient?\n",
    "\n",
    "One of the core teaching philosophies of Jeremy Howard's Practical Deep Learning for Coders is that most important thing for learning deep learning is writing code and experimenting yourself. To enable that, within the first lesson you need to get your jupyter notebook environment set up using an nvidia gpu compute. Given how complex it is to set up a GPU locally, your best bet is to use an online platform to connect to a remote compute. \n",
    "\n",
    "In the fastai course docs, a few free online platform GPU options are listed including Colab by Google and Gradient by Paperspace. Colab is the easiest to get going, however it has some downsides. Most notably:\n",
    "- Google has changed the platform quite a lot so the normal jupyter shortcuts don't work\n",
    "- I couldn't easily figure out how to integrate colab with Github (or at least didn't want to spend the time learning how to when I already know how to do so using traditional jupyter environments)\n",
    "- You have to use google drive for storing downloaded files and images, which integrates well enough within colab but I was unsure if those files would persist or if they were able to be pushed to Github\n",
    "\n",
    "I tried to go with Gradient, but wasn't allowed to create an account given my request was somehow flagged for fraud. Rather than go through the process of working with Paperspace customer service, I figured I'd try my hand with AWS Sagemaker. I also thought that given AWS's popularity in Data Science and within my own organization, it would be useful to learn how to leverage AWS for deep learning. Feel free to use whatever platform you'd like. In case you end up choosing Sagemaker, the rest of this blog offers instructions for how to get set up as many of the existing documentation is outdated and needs some edits to enable jupyter ipywidgets (which allow you to create GUIs within Jupyter)."
   ]
  },
  {
   "cell_type": "markdown",
   "metadata": {},
   "source": [
    "# TO DO: Link original instructions and then add code that needs to be modified"
   ]
  }
 ],
 "metadata": {
  "kernelspec": {
   "display_name": "Python 3",
   "language": "python",
   "name": "python3"
  },
  "language_info": {
   "codemirror_mode": {
    "name": "ipython",
    "version": 3
   },
   "file_extension": ".py",
   "mimetype": "text/x-python",
   "name": "python",
   "nbconvert_exporter": "python",
   "pygments_lexer": "ipython3",
   "version": "3.8.3"
  }
 },
 "nbformat": 4,
 "nbformat_minor": 4
}
